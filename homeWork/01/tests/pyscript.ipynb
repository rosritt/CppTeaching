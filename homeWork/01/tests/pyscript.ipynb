{
 "cells": [
  {
   "cell_type": "code",
   "execution_count": 2,
   "metadata": {},
   "outputs": [],
   "source": [
    "import numpy as np"
   ]
  },
  {
   "cell_type": "code",
   "execution_count": 3,
   "metadata": {},
   "outputs": [],
   "source": [
    "np.random.seed(0)"
   ]
  },
  {
   "cell_type": "code",
   "execution_count": 4,
   "metadata": {},
   "outputs": [],
   "source": [
    "s = ''"
   ]
  },
  {
   "cell_type": "code",
   "execution_count": 11,
   "metadata": {},
   "outputs": [],
   "source": [
    "for i in range(20):\n",
    "    n = np.random.randint(1,100)\n",
    "    m = np.random.randint(1,100)\n",
    "    l = np.random.randint(1,100)\n",
    "    A = np.random.randint(low=-100, high=100, size=(n,m), dtype='i')\n",
    "    B = np.random.randint(low=-100, high=100, size=(m,l), dtype='i')\n",
    "    s = str(n) + ' '  + str(m) + ' ' + str(l) + '\\n'\n",
    "    for ni in range(A.shape[0]):\n",
    "        for nj in range(A.shape[1]):\n",
    "            s = s + str(A[ni, nj]) + ' '\n",
    "        s = s + '\\n'\n",
    "    for ni in range(B.shape[0]):\n",
    "        for nj in range(B.shape[1]):\n",
    "            s = s + str(B[ni,nj]) + ' '\n",
    "        s = s + '\\n'\n",
    "    \n",
    "    with open('mtest/text'+str(i)+'.txt', 'w') as f:\n",
    "        f.write(s)\n",
    "\n",
    "    C = A @ B\n",
    "    a = ''\n",
    "    for ni in range(C.shape[0]):\n",
    "        for nj in range(C.shape[1]):\n",
    "            a = a + str(C[ni,nj]) + ' '\n",
    "        a = a + '\\n'\n",
    "    with open('mtest/asnv'+str(i)+'.txt', 'w') as f:\n",
    "        f.write(a)"
   ]
  }
 ],
 "metadata": {
  "kernelspec": {
   "display_name": "Python 3",
   "language": "python",
   "name": "python3"
  },
  "language_info": {
   "codemirror_mode": {
    "name": "ipython",
    "version": 3
   },
   "file_extension": ".py",
   "mimetype": "text/x-python",
   "name": "python",
   "nbconvert_exporter": "python",
   "pygments_lexer": "ipython3",
   "version": "3.11.4"
  },
  "orig_nbformat": 4
 },
 "nbformat": 4,
 "nbformat_minor": 2
}
